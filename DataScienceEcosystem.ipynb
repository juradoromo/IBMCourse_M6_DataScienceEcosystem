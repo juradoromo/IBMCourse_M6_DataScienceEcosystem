{
 "cells": [
  {
   "cell_type": "markdown",
   "id": "9156b31e-a3a8-4a36-8262-7da9a7a38f3f",
   "metadata": {},
   "source": [
    "# Data Science Tools and Ecosystem"
   ]
  },
  {
   "cell_type": "markdown",
   "id": "99eef7c7-bfb8-428d-8704-9c7fe9733c81",
   "metadata": {},
   "source": [
    "In this notebook, Data Science Tools and Ecosystem are summarized."
   ]
  },
  {
   "cell_type": "markdown",
   "id": "d0286dc4-33a5-46c1-bc48-58d5ea92dfa1",
   "metadata": {},
   "source": [
    "Some of the popular languages that Data Scientists use are:\n",
    "1. Python\n",
    "2. R\n",
    "3. C++\n",
    "4. Julia"
   ]
  },
  {
   "cell_type": "markdown",
   "id": "853406df-8a03-45b3-8eb9-2c23f9c473fc",
   "metadata": {},
   "source": [
    "Some of the commonly used libraries used by Data Scientists include:\n",
    "1. ggplot\n",
    "2. pandas\n",
    "3. numpy\n",
    "4. plotly"
   ]
  },
  {
   "cell_type": "markdown",
   "id": "0f7bcf5b-8e05-4d55-92d4-fba4663bc6d2",
   "metadata": {},
   "source": [
    "| Data Science Tools |\n",
    "| ------------------ |\n",
    "| JupyterLab |\n",
    "| Visual Studio Code |\n",
    "| RStudio |"
   ]
  },
  {
   "cell_type": "markdown",
   "id": "fb1d108e-540f-4492-aaef-ebffdc59b30f",
   "metadata": {},
   "source": [
    " ### Below are a few examples of evaluating arithmetic expressions in Python."
   ]
  },
  {
   "cell_type": "code",
   "execution_count": 16,
   "id": "ce7703ab-fef0-4381-8efd-8059b9a75496",
   "metadata": {},
   "outputs": [
    {
     "data": {
      "text/plain": [
       "17"
      ]
     },
     "execution_count": 16,
     "metadata": {},
     "output_type": "execute_result"
    }
   ],
   "source": [
    "# This is a simple arithmetic expression to muliply then add integers.\n",
    "(3*4)+5"
   ]
  },
  {
   "cell_type": "code",
   "execution_count": 18,
   "id": "b8755e99-4ca3-45de-93d2-0ac8c66c1147",
   "metadata": {},
   "outputs": [
    {
     "data": {
      "text/plain": [
       "3.3333333333333335"
      ]
     },
     "execution_count": 18,
     "metadata": {},
     "output_type": "execute_result"
    }
   ],
   "source": [
    "# This will convert 200 minutes to hours by diving by 60.\n",
    "200/60"
   ]
  },
  {
   "cell_type": "markdown",
   "id": "aa628b11-536e-4b14-aa1c-3147bd6ef453",
   "metadata": {},
   "source": [
    "**Objectives:**\n",
    "- List popular languages for Data Science.\n",
    "- List commonly used libraries used by Data Science.\n",
    "- Make a table with some Data Science Tools.\n",
    "- Make a simple aritmetic expression.\n",
    "- Convert minutes to hours."
   ]
  },
  {
   "cell_type": "markdown",
   "id": "19398456-afc8-4ba8-a863-44e0ff0ebc69",
   "metadata": {},
   "source": [
    "## Author\n",
    "Juan José Jurado"
   ]
  },
  {
   "cell_type": "code",
   "execution_count": null,
   "id": "0cfef83a-f0a9-46ae-a57a-c62c8e05850b",
   "metadata": {},
   "outputs": [],
   "source": []
  }
 ],
 "metadata": {
  "kernelspec": {
   "display_name": "Python 3 (ipykernel)",
   "language": "python",
   "name": "python3"
  },
  "language_info": {
   "codemirror_mode": {
    "name": "ipython",
    "version": 3
   },
   "file_extension": ".py",
   "mimetype": "text/x-python",
   "name": "python",
   "nbconvert_exporter": "python",
   "pygments_lexer": "ipython3",
   "version": "3.12.4"
  }
 },
 "nbformat": 4,
 "nbformat_minor": 5
}
